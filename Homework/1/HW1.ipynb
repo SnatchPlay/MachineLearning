{
 "cells": [
  {
   "cell_type": "markdown",
   "id": "9c7944ff",
   "metadata": {},
   "source": [
    "Import\n"
   ]
  },
  {
   "cell_type": "code",
   "execution_count": 1,
   "id": "43d5d836",
   "metadata": {},
   "outputs": [],
   "source": [
    "import numpy as np"
   ]
  },
  {
   "cell_type": "markdown",
   "id": "cb663618",
   "metadata": {},
   "source": [
    "Create array"
   ]
  },
  {
   "cell_type": "code",
   "execution_count": 2,
   "id": "75d7b66d",
   "metadata": {},
   "outputs": [],
   "source": [
    "N=100\n",
    "arr=np.random.random((N,N))"
   ]
  },
  {
   "cell_type": "markdown",
   "id": "c740f09d",
   "metadata": {},
   "source": [
    "Default Algorithm"
   ]
  },
  {
   "cell_type": "code",
   "execution_count": 3,
   "id": "9557d45b",
   "metadata": {
    "scrolled": true
   },
   "outputs": [],
   "source": [
    "def def_mul(A,B,N):\n",
    "    C=np.zeros((N,N))\n",
    "    for i in range(N):\n",
    "     \n",
    "        for j in range( N):\n",
    "         \n",
    "            \n",
    "            for k in range(N):\n",
    "             \n",
    "                C[i][j] += A[i][k]*B[k][j]\n",
    "    return C\n"
   ]
  },
  {
   "cell_type": "markdown",
   "id": "5a136c3e",
   "metadata": {},
   "source": [
    "IKJ Algorithm"
   ]
  },
  {
   "cell_type": "code",
   "execution_count": 4,
   "id": "80a1059f",
   "metadata": {},
   "outputs": [],
   "source": [
    "def ikjMatrixProduct(A, B):\n",
    "    n = len(A)\n",
    "    C = [[0 for i in range(n)] for j in range(n)]\n",
    "    for i in range(n):\n",
    "        for k in range(n):\n",
    "            for j in range(n):\n",
    "                C[i][j] += A[i][k] * B[k][j]\n",
    "    return C"
   ]
  },
  {
   "cell_type": "markdown",
   "id": "01488a7d",
   "metadata": {},
   "source": [
    "Time"
   ]
  },
  {
   "cell_type": "code",
   "execution_count": 5,
   "id": "5f4b4602",
   "metadata": {
    "scrolled": true
   },
   "outputs": [
    {
     "name": "stdout",
     "output_type": "stream",
     "text": [
      "N=100\n",
      "Default mult\n",
      "1.04 s ± 25.5 ms per loop (mean ± std. dev. of 7 runs, 1 loop each)\n",
      "Ikj\n",
      "784 ms ± 3.76 ms per loop (mean ± std. dev. of 7 runs, 1 loop each)\n",
      "Numpy\n",
      "3.02 µs ± 6.69 ns per loop (mean ± std. dev. of 7 runs, 100000 loops each)\n"
     ]
    }
   ],
   "source": [
    "print(\"N=\"+str(N))\n",
    "print(\"Default mult\")\n",
    "%timeit def_mul(arr,arr,N)\n",
    "print(\"Ikj\")\n",
    "%timeit ikjMatrixProduct(arr,arr)\n",
    "print(\"Numpy\")\n",
    "%timeit np.multiply(arr,arr)"
   ]
  },
  {
   "cell_type": "code",
   "execution_count": null,
   "id": "cd00b87f",
   "metadata": {},
   "outputs": [],
   "source": []
  }
 ],
 "metadata": {
  "kernelspec": {
   "display_name": "Python 3 (ipykernel)",
   "language": "python",
   "name": "python3"
  },
  "language_info": {
   "codemirror_mode": {
    "name": "ipython",
    "version": 3
   },
   "file_extension": ".py",
   "mimetype": "text/x-python",
   "name": "python",
   "nbconvert_exporter": "python",
   "pygments_lexer": "ipython3",
   "version": "3.9.7"
  }
 },
 "nbformat": 4,
 "nbformat_minor": 5
}
